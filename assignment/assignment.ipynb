{
  "cells": [
    {
      "cell_type": "markdown",
      "id": "13ad028b-72b7-43ed-aa78-96fd4e518040",
      "metadata": {
        "id": "13ad028b-72b7-43ed-aa78-96fd4e518040"
      },
      "source": [
        "# Assignment: Data Wrangling\n",
        "### `! git clone https://github.com/ds4e/wrangling`\n",
        "### Do Q1 and Q2, and either Q3 or Q4, for a total of 3 questions."
      ]
    },
    {
      "cell_type": "markdown",
      "id": "da879ea7-8aac-48a3-b6c2-daea56d2e072",
      "metadata": {
        "id": "da879ea7-8aac-48a3-b6c2-daea56d2e072"
      },
      "source": [
        "**Q1.** This question provides some practice cleaning variables which have common problems.\n",
        "1. Numeric variable: For `./data/airbnb_hw.csv`, clean the `Price` variable as well as you can, and explain the choices you make. How many missing values do you end up with? (Hint: What happens to the formatting when a price goes over 999 dollars, say from 675 to 1,112?)\n",
        "2. Categorical variable: For the Minnesota police use of for data, `./data/mn_police_use_of_force.csv`, clean the `subject_injury` variable, handling the NA's; this gives a value `Yes` when a person was injured by police, and `No` when no injury occurred. What proportion of the values are missing? Is this a concern? Cross-tabulate your cleaned `subject_injury` variable with the `force_type` variable. Are there any patterns regarding when the data are missing?\n",
        "3. Dummy variable: For the pretrial data covered in the lecture, clean the `WhetherDefendantWasReleasedPretrial` variable as well as you can, and, in particular, replace missing values with `np.nan`.\n",
        "4. Missing values, not at random: For the pretrial data covered in the lecture, clean the `ImposedSentenceAllChargeInContactEvent` variable as well as you can, and explain the choices you make. (Hint: Look at the `SentenceTypeAllChargesAtConvictionInContactEvent` variable.)"
      ]
    },
    {
      "cell_type": "markdown",
      "source": [
        "I cleaned the Price variable mainly by removing the dollar sign and rhe commas in the prices over 999 dollars. There are no missing values in this variable."
      ],
      "metadata": {
        "id": "Q-pen1d0cajV"
      },
      "id": "Q-pen1d0cajV"
    },
    {
      "cell_type": "code",
      "source": [
        "#1\n",
        "import pandas as pd\n",
        "# Load the Airbnb dataset\n",
        "file_path = 'https://raw.githubusercontent.com/Lisabyy/wrangling/refs/heads/main/assignment/data/airbnb_hw.csv'\n",
        "df_airbnb = pd.read_csv(file_path)\n",
        "\n",
        "print(df_airbnb['Price'].head(10))\n",
        "\n",
        "# Remove dollar signs and commas, then convert to numeric\n",
        "df_airbnb['Price'] = df_airbnb['Price'].astype(str).str.replace(r'[$,]', '', regex=True)\n",
        "df_airbnb['Price'] = pd.to_numeric(df_airbnb['Price'], errors='coerce')\n",
        "\n",
        "# Count missing values\n",
        "missing_prices = df_airbnb['Price'].isna().sum()\n",
        "print(f\"Number of missing Price values: {missing_prices}\")"
      ],
      "metadata": {
        "id": "Z06G6F4XNCjp",
        "outputId": "0584edee-dfd4-45e2-ece5-ef55e25505a3",
        "colab": {
          "base_uri": "https://localhost:8080/"
        }
      },
      "id": "Z06G6F4XNCjp",
      "execution_count": 10,
      "outputs": [
        {
          "output_type": "stream",
          "name": "stdout",
          "text": [
            "0    145\n",
            "1     37\n",
            "2     28\n",
            "3    199\n",
            "4    549\n",
            "5    149\n",
            "6    250\n",
            "7     90\n",
            "8    270\n",
            "9    290\n",
            "Name: Price, dtype: object\n",
            "Number of missing Price values: 0\n"
          ]
        }
      ]
    },
    {
      "cell_type": "code",
      "source": [
        "#2\n",
        "file_path = 'https://raw.githubusercontent.com/Lisabyy/wrangling/refs/heads/main/assignment/data/mn_police_use_of_force.csv'\n",
        "df_police = pd.read_csv(file_path)\n",
        "\n",
        "print(df_police['subject_injury'].value_counts(dropna=False))\n",
        "\n",
        "# Standardize values: Convert to lowercase and map to 'Yes' or 'No'\n",
        "df_police['subject_injury'] = df_police['subject_injury'].str.strip().str.lower()\n",
        "\n",
        "# Define mapping\n",
        "injury_mapping = {\n",
        "    'yes': 'Yes',\n",
        "    'no': 'No',\n",
        "    'unknown': 'Unknown'\n",
        "}\n",
        "\n",
        "df_police['subject_injury'] = df_police['subject_injury'].map(injury_mapping).fillna('Unknown')\n",
        "\n",
        "# Check proportion of missing (now 'Unknown') values\n",
        "missing_injury = (df_police['subject_injury'] == 'Unknown').mean()\n",
        "print(f\"Proportion of missing subject_injury values: {missing_injury:.2%}\")\n",
        "\n",
        "# Cross-tabulation of cleaned injury variable and force type\n",
        "crosstab_result = pd.crosstab(df_police['subject_injury'], df_police['force_type'])\n",
        "print(crosstab_result)"
      ],
      "metadata": {
        "id": "YrNggFU5b5nQ",
        "outputId": "53d58c10-33d5-4b52-e571-fe4dd64b3dc0",
        "colab": {
          "base_uri": "https://localhost:8080/"
        }
      },
      "id": "YrNggFU5b5nQ",
      "execution_count": 12,
      "outputs": [
        {
          "output_type": "stream",
          "name": "stdout",
          "text": [
            "subject_injury\n",
            "NaN    9848\n",
            "Yes    1631\n",
            "No     1446\n",
            "Name: count, dtype: int64\n",
            "Proportion of missing subject_injury values: 76.19%\n",
            "force_type      Baton  Bodily Force  Chemical Irritant  Firearm  \\\n",
            "subject_injury                                                    \n",
            "No                  0          1093                131        2   \n",
            "Unknown             2          7051               1421        0   \n",
            "Yes                 2          1286                 41        0   \n",
            "\n",
            "force_type      Gun Point Display  Improvised Weapon  Less Lethal  \\\n",
            "subject_injury                                                      \n",
            "No                             33                 34            0   \n",
            "Unknown                        27                 74           87   \n",
            "Yes                            44                 40            0   \n",
            "\n",
            "force_type      Less Lethal Projectile  Maximal Restraint Technique  \\\n",
            "subject_injury                                                        \n",
            "No                                   1                            0   \n",
            "Unknown                              0                          170   \n",
            "Yes                                  2                            0   \n",
            "\n",
            "force_type      Police K9 Bite  Taser  \n",
            "subject_injury                         \n",
            "No                           2    150  \n",
            "Unknown                     31    985  \n",
            "Yes                         44    172  \n"
          ]
        }
      ]
    },
    {
      "cell_type": "markdown",
      "source": [
        "A high proportion of missing values suggest incomplete reporting of the data. The patterns regarding the missing data need further analysis."
      ],
      "metadata": {
        "id": "Bi2SPx3Ndo82"
      },
      "id": "Bi2SPx3Ndo82"
    },
    {
      "cell_type": "code",
      "source": [
        "#3\n",
        "import pandas as pd\n",
        "import numpy as np\n",
        "file_path = '/justice_data.parquet'\n",
        "df_pretrial = pd.read_parquet(file_path)\n",
        "\n",
        "print(df_pretrial['WhetherDefendantWasReleasedPretrial'].value_counts(dropna=False))\n",
        "\n",
        "# Define mapping\n",
        "release_mapping = {\n",
        "    'yes': 'Yes',\n",
        "    'no': 'No',\n",
        "    'released': 'Yes',\n",
        "    'not released': 'No'\n",
        "}\n",
        "\n",
        "df_pretrial['WhetherDefendantWasReleasedPretrial'] = df_pretrial['WhetherDefendantWasReleasedPretrial'].map(release_mapping)\n",
        "\n",
        "# Replace missing values\n",
        "df_pretrial['WhetherDefendantWasReleasedPretrial'] = df_pretrial['WhetherDefendantWasReleasedPretrial'].replace('', np.nan)"
      ],
      "metadata": {
        "id": "eWvM00Exd6wG",
        "outputId": "414a78d4-5222-4a39-b123-baa4cab6d190",
        "colab": {
          "base_uri": "https://localhost:8080/"
        }
      },
      "id": "eWvM00Exd6wG",
      "execution_count": 16,
      "outputs": [
        {
          "output_type": "stream",
          "name": "stdout",
          "text": [
            "WhetherDefendantWasReleasedPretrial\n",
            "1    19154\n",
            "0     3801\n",
            "9       31\n",
            "Name: count, dtype: int64\n"
          ]
        }
      ]
    },
    {
      "cell_type": "markdown",
      "source": [
        "For the recorded sentences, separating them from missing values and proper values (with the meaning of no conviction) helps present the data more clearly."
      ],
      "metadata": {
        "id": "qBOsG1HwIv_G"
      },
      "id": "qBOsG1HwIv_G"
    },
    {
      "cell_type": "code",
      "source": [
        "#4\n",
        "print(df_pretrial[['ImposedSentenceAllChargeInContactEvent', 'SentenceTypeAllChargesAtConvictionInContactEvent']].head(20))\n",
        "\n",
        "# If sentence type is 'No conviction', replace missing sentence with 'Unknown'\n",
        "df_pretrial.loc[\n",
        "    df_pretrial['SentenceTypeAllChargesAtConvictionInContactEvent'] == 'No conviction',\n",
        "    'ImposedSentenceAllChargeInContactEvent'\n",
        "] = 'Unknown'\n",
        "\n",
        "# Convert numeric values properly\n",
        "df_pretrial['ImposedSentenceAllChargeInContactEvent'] = pd.to_numeric(\n",
        "    df_pretrial['ImposedSentenceAllChargeInContactEvent'], errors='coerce'\n",
        ")\n",
        "\n",
        "# Missing values\n",
        "missing_sentences = df_pretrial['ImposedSentenceAllChargeInContactEvent'].isna().sum()\n",
        "print(f\"Missing values after cleaning: {missing_sentences}\")"
      ],
      "metadata": {
        "id": "_peNm7i0IYNW",
        "outputId": "3076e10a-a347-47c4-8ba5-50f4138393bd",
        "colab": {
          "base_uri": "https://localhost:8080/"
        }
      },
      "id": "_peNm7i0IYNW",
      "execution_count": 17,
      "outputs": [
        {
          "output_type": "stream",
          "name": "stdout",
          "text": [
            "   ImposedSentenceAllChargeInContactEvent  \\\n",
            "0                                           \n",
            "1                                      60   \n",
            "2                                      12   \n",
            "3                        .985626283367556   \n",
            "4                                           \n",
            "5                                      12   \n",
            "6                                      36   \n",
            "7                                       6   \n",
            "8                                      24   \n",
            "9                                      12   \n",
            "10                       5.91375770020534   \n",
            "11                                          \n",
            "12                                          \n",
            "13                                    120   \n",
            "14                                     24   \n",
            "15                                          \n",
            "16                                          \n",
            "17                                     12   \n",
            "18                                          \n",
            "19                                     12   \n",
            "\n",
            "    SentenceTypeAllChargesAtConvictionInContactEvent  \n",
            "0                                                  9  \n",
            "1                                                  0  \n",
            "2                                                  1  \n",
            "3                                                  1  \n",
            "4                                                  4  \n",
            "5                                                  0  \n",
            "6                                                  1  \n",
            "7                                                  0  \n",
            "8                                                  1  \n",
            "9                                                  1  \n",
            "10                                                 0  \n",
            "11                                                 4  \n",
            "12                                                 4  \n",
            "13                                                 1  \n",
            "14                                                 1  \n",
            "15                                                 4  \n",
            "16                                                 4  \n",
            "17                                                 0  \n",
            "18                                                 4  \n",
            "19                                                 0  \n",
            "Missing values after cleaning: 9053\n"
          ]
        }
      ]
    },
    {
      "cell_type": "markdown",
      "id": "5a60a44e",
      "metadata": {
        "id": "5a60a44e"
      },
      "source": [
        "**Q2.** Go to https://sharkattackfile.net/ and download their dataset on shark attacks.\n",
        "\n",
        "1. Open the shark attack file using Pandas. It is probably not a csv file, so `read_csv` won't work.\n",
        "2. Drop any columns that do not contain data.\n",
        "3. Clean the year variable. Describe the range of values you see. Filter the rows to focus on attacks since 1940. Are attacks increasing, decreasing, or remaining constant over time?\n",
        "4. Clean the Age variable and make a histogram of the ages of the victims.\n",
        "5. What proportion of victims are male?\n",
        "6. Clean the `Type` variable so it only takes three values: Provoked and Unprovoked and Unknown. What proportion of attacks are unprovoked?\n",
        "7. Clean the `Fatal Y/N` variable so it only takes three values: Y, N, and Unknown.\n",
        "8. Are sharks more likely to launch unprovoked attacks on men or women? Is the attack more or less likely to be fatal when the attack is provoked or unprovoked? Is it more or less likely to be fatal when the victim is male or female? How do you feel about sharks?\n",
        "9. What proportion of attacks appear to be by white sharks? (Hint: `str.split()` makes a vector of text values into a list of lists, split by spaces.)"
      ]
    },
    {
      "cell_type": "code",
      "source": [
        "#1\n",
        "import pandas as pd\n",
        "file_path = '/Sharks.xls'\n",
        "df = pd.read_excel(file_path)\n",
        "\n",
        "#2\n",
        "columns_to_drop = [col for col in df.columns if df[col].isnull().all()]\n",
        "df = df.drop(columns=columns_to_drop)"
      ],
      "metadata": {
        "id": "_XeHJMCEWjPh"
      },
      "id": "_XeHJMCEWjPh",
      "execution_count": 43,
      "outputs": []
    },
    {
      "cell_type": "code",
      "source": [
        "#3\n",
        "df['Year'] = pd.to_numeric(df['Year'], errors='coerce')\n",
        "df.dropna(subset=['Year'], inplace=True)\n",
        "df = df[df['Year'] >= 1940]  # Keep attacks since 1940\n",
        "\n",
        "year_range = df['Year'].describe()\n",
        "print(year_range)\n",
        "\n",
        "import matplotlib.pyplot as plt\n",
        "# Count attacks per year\n",
        "attacks_per_year = df.groupby('Year').size()\n",
        "\n",
        "# Plot trend\n",
        "plt.figure(figsize=(10, 6))\n",
        "attacks_per_year.plot(kind='line')\n",
        "plt.title('Number of Shark Attacks per Year (Since 1940)')\n",
        "plt.xlabel('Year')\n",
        "plt.ylabel('Number of Attacks')\n",
        "plt.grid(True)\n",
        "plt.show()"
      ],
      "metadata": {
        "id": "PqxIrpjCJTQh",
        "outputId": "572d7f92-b3d3-4421-9c19-c5dd4e000c9f",
        "colab": {
          "base_uri": "https://localhost:8080/",
          "height": 725
        }
      },
      "id": "PqxIrpjCJTQh",
      "execution_count": 44,
      "outputs": [
        {
          "output_type": "stream",
          "name": "stdout",
          "text": [
            "count    5458.000000\n",
            "mean     1991.937156\n",
            "std        24.083712\n",
            "min      1940.000000\n",
            "25%      1969.000000\n",
            "50%      2000.000000\n",
            "75%      2013.000000\n",
            "max      2026.000000\n",
            "Name: Year, dtype: float64\n"
          ]
        },
        {
          "output_type": "display_data",
          "data": {
            "text/plain": [
              "<Figure size 1000x600 with 1 Axes>"
            ],
            "image/png": "[encoded data removed]"
          },
          "metadata": {}
        }
      ]
    },
    {
      "cell_type": "markdown",
      "source": [
        "The shark attacks fluctuate throughout the time, having both increases and decreases. Overall, the trend is decreasing."
      ],
      "metadata": {
        "id": "e04sJw4AKGiR"
      },
      "id": "e04sJw4AKGiR"
    },
    {
      "cell_type": "code",
      "source": [
        "#4\n",
        "df['Age'] = pd.to_numeric(df['Age'], errors='coerce')\n",
        "df.dropna(subset=['Age'], inplace=True)\n",
        "\n",
        "# Plot histogram\n",
        "plt.figure(figsize=(10, 6))\n",
        "df['Age'].plot(kind='hist', bins=range(0, 80, 5), edgecolor='black')\n",
        "plt.title('Distribution of Victim Ages')\n",
        "plt.xlabel('Age')\n",
        "plt.ylabel('Frequency')\n",
        "plt.grid(True)\n",
        "plt.show()"
      ],
      "metadata": {
        "id": "V-WKuq8qJa5o",
        "outputId": "62090e0f-88a1-4c42-da77-420840b4cb95",
        "colab": {
          "base_uri": "https://localhost:8080/",
          "height": 564
        }
      },
      "id": "V-WKuq8qJa5o",
      "execution_count": 45,
      "outputs": [
        {
          "output_type": "display_data",
          "data": {
            "text/plain": [
              "<Figure size 1000x600 with 1 Axes>"
            ],
            "image/png": "[encoded data removed]"
          },
          "metadata": {}
        }
      ]
    },
    {
      "cell_type": "code",
      "source": [
        "#5\n",
        "df['Sex'] = df['Sex'].str.strip().str.upper()\n",
        "\n",
        "male_victims = df[df['Sex'] == 'M'].shape[0]\n",
        "total_victims = df.shape[0]\n",
        "proportion_male = male_victims / total_victims\n",
        "\n",
        "print(f\"Proportion of male victims: {proportion_male:.2%}\")"
      ],
      "metadata": {
        "id": "X6fRAoWQKlS2",
        "outputId": "6c9ace63-475c-4e23-9bca-21f8697ed172",
        "colab": {
          "base_uri": "https://localhost:8080/"
        }
      },
      "id": "X6fRAoWQKlS2",
      "execution_count": 46,
      "outputs": [
        {
          "output_type": "stream",
          "name": "stdout",
          "text": [
            "Proportion of male victims: 83.76%\n"
          ]
        }
      ]
    },
    {
      "cell_type": "code",
      "source": [
        "#6\n",
        "df['Type'] = df['Type'].str.strip().str.capitalize()\n",
        "\n",
        "type_mapping = {\n",
        "    'Provoked': 'Provoked',\n",
        "    'Unprovoked': 'Unprovoked',\n",
        "    'Boat': 'Unprovoked',\n",
        "    'Sea disaster': 'Unprovoked',\n",
        "    'Boating': 'Unprovoked',\n",
        "    'Invalid': 'Unknown',\n",
        "    'Questionable': 'Unknown',\n",
        "    'Unknown': 'Unknown'\n",
        "}\n",
        "\n",
        "df['Type'] = df['Type'].map(type_mapping).fillna('Unknown')\n",
        "\n",
        "# Calculate proportion of unprovoked attacks\n",
        "unprovoked_attacks = df[df['Type'] == 'Unprovoked'].shape[0]\n",
        "proportion_unprovoked = unprovoked_attacks / total_victims\n",
        "\n",
        "print(f\"Proportion of unprovoked attacks: {proportion_unprovoked:.2%}\")"
      ],
      "metadata": {
        "id": "bKNESOuoKwv3",
        "outputId": "5314e8c2-dc79-4211-8d95-9c77804b608c",
        "colab": {
          "base_uri": "https://localhost:8080/"
        }
      },
      "id": "bKNESOuoKwv3",
      "execution_count": 47,
      "outputs": [
        {
          "output_type": "stream",
          "name": "stdout",
          "text": [
            "Proportion of unprovoked attacks: 84.18%\n"
          ]
        }
      ]
    },
    {
      "cell_type": "code",
      "source": [
        "#7\n",
        "df['Fatal Y/N'] = df['Fatal Y/N'].str.strip().str.upper()\n",
        "\n",
        "fatal_mapping = {\n",
        "    'Y': 'Y',\n",
        "    'N': 'N',\n",
        "    'UNKNOWN': 'Unknown',\n",
        "    'F': 'Y'\n",
        "}\n",
        "\n",
        "df['Fatal Y/N'] = df['Fatal Y/N'].map(fatal_mapping).fillna('Unknown')"
      ],
      "metadata": {
        "id": "OqPZXfEhK6Sa"
      },
      "id": "OqPZXfEhK6Sa",
      "execution_count": 48,
      "outputs": []
    },
    {
      "cell_type": "code",
      "source": [
        "#8\n",
        "# Contingency table for 'Sex' and 'Type'\n",
        "sex_type_table = pd.crosstab(df['Sex'], df['Type'])\n",
        "\n",
        "# Proportion of unprovoked attacks by gender\n",
        "unprovoked_by_gender = sex_type_table['Unprovoked'] / sex_type_table.sum(axis=1)\n",
        "print(unprovoked_by_gender)\n",
        "\n",
        "# Contingency table for 'Type' and 'Fatal Y/N'\n",
        "fatal_by_type = pd.crosstab(df['Type'], df['Fatal Y/N'], normalize='index') * 100\n",
        "print(fatal_by_type)\n",
        "\n",
        "# Contingency table for 'Sex' and 'Fatal Y/N'\n",
        "fatal_by_gender = pd.crosstab(df['Sex'], df['Fatal Y/N'], normalize='index') * 100\n",
        "print(fatal_by_gender)"
      ],
      "metadata": {
        "id": "PG6BwPRmLePo",
        "outputId": "a66c0f6d-4915-475d-83ba-f4a5f3ffc8aa",
        "colab": {
          "base_uri": "https://localhost:8080/"
        }
      },
      "id": "PG6BwPRmLePo",
      "execution_count": 52,
      "outputs": [
        {
          "output_type": "stream",
          "name": "stdout",
          "text": [
            "Sex\n",
            "F      0.878899\n",
            "LLI    1.000000\n",
            "M      0.836297\n",
            "dtype: float64\n",
            "Fatal Y/N           N    Unknown          Y\n",
            "Type                                       \n",
            "Provoked    96.219931   1.030928   2.749141\n",
            "Unknown     24.632353  70.955882   4.411765\n",
            "Unprovoked  82.710280   0.534045  16.755674\n",
            "Fatal Y/N           N   Unknown          Y\n",
            "Sex                                       \n",
            "F           80.183486  6.422018  13.394495\n",
            "LLI        100.000000  0.000000   0.000000\n",
            "M           79.369339  5.803422  14.827239\n"
          ]
        }
      ]
    },
    {
      "cell_type": "markdown",
      "source": [
        "Sharks are more likely to launch unprovoked attacks on women, with a 4% difference in the proportion. The attack is more likely to be fatal when it's unprovoked. And it's more likely to be fatal for men. Shark attacks are more random than perceived, which implied about its dangerousness."
      ],
      "metadata": {
        "id": "Q2SGCBosN1VH"
      },
      "id": "Q2SGCBosN1VH"
    },
    {
      "cell_type": "code",
      "source": [
        "#9\n",
        "df['Species '] = df['Species '].astype(str)\n",
        "df['Species '] = df['Species '].str.split()\n",
        "\n",
        "# Check proportion of attacks by white sharks\n",
        "white_shark_attacks = df[df['Species '].str.contains('white', na=False)].shape[0]\n",
        "proportion_white_shark = white_shark_attacks / total_victims\n",
        "\n",
        "print(f\"Proportion of attacks by white sharks: {proportion_white_shark:.2%}\")"
      ],
      "metadata": {
        "id": "e4AUFP9bLfe9",
        "outputId": "06236d6e-a886-4888-842c-9a228e0c54ce",
        "colab": {
          "base_uri": "https://localhost:8080/"
        }
      },
      "id": "e4AUFP9bLfe9",
      "execution_count": 58,
      "outputs": [
        {
          "output_type": "stream",
          "name": "stdout",
          "text": [
            "Proportion of attacks by white sharks: 0.00%\n"
          ]
        }
      ]
    },
    {
      "cell_type": "markdown",
      "id": "5735a4d4-8be8-433a-a351-70eb8002e632",
      "metadata": {
        "id": "5735a4d4-8be8-433a-a351-70eb8002e632"
      },
      "source": [
        "**Q3.** Open the \"tidy_data.pdf\" document in the repo, which is a paper called Tidy Data by Hadley Wickham.\n",
        "\n",
        "  1. Read the abstract. What is this paper about?\n",
        "  2. Read the introduction. What is the \"tidy data standard\" intended to accomplish?\n",
        "  3. Read the intro to section 2. What does this sentence mean: \"Like families, tidy datasets are all alike but every messy dataset is messy in its own way.\" What does this sentence mean: \"For a given dataset, it’s usually easy to figure out what are observations and what are variables, but it is surprisingly difficult to precisely define variables and observations in general.\"\n",
        "  4. Read Section 2.2. How does Wickham define values, variables, and observations?\n",
        "  5. How is \"Tidy Data\" defined in section 2.3?\n",
        "  6. Read the intro to Section 3 and Section 3.1. What are the 5 most common problems with messy datasets? Why are the data in Table 4 messy? What is \"melting\" a dataset?\n",
        "  7. Why, specifically, is table 11 messy but table 12 tidy and \"molten\"?\n",
        "  8. Read Section 6. What is the \"chicken-and-egg\" problem with focusing on tidy data? What does Wickham hope happens in the future with further work on the subject of data wrangling?"
      ]
    },
    {
      "cell_type": "markdown",
      "id": "649494cd-cfd6-4f80-992a-9994fc19e1d5",
      "metadata": {
        "id": "649494cd-cfd6-4f80-992a-9994fc19e1d5"
      },
      "source": [
        "**Q4.** Many important datasets contain a race variable, typically limited to a handful of values often including Black, White, Asian, Latino, and Indigenous. This question looks at data gathering efforts on this variable by the U.S. Federal government.\n",
        "\n",
        "1. How did the most recent US Census gather data on race?\n",
        "2. Why do we gather these data? What role do these kinds of data play in politics and society? Why does data quality matter?\n",
        "3. Please provide a constructive criticism of how the Census was conducted: What was done well? What do you think was missing? How should future large scale surveys be adjusted to best reflect the diversity of the population? Could some of the Census' good practices be adopted more widely to gather richer and more useful data?\n",
        "4. How did the Census gather data on sex and gender? Please provide a similar constructive criticism of their practices.\n",
        "5. When it comes to cleaning data, what concerns do you have about protected characteristics like sex, gender, sexual identity, or race? What challenges can you imagine arising when there are missing values? What good or bad practices might people adopt, and why?\n",
        "6. Suppose someone invented an algorithm to impute values for protected characteristics like race, gender, sex, or sexuality. What kinds of concerns would you have?"
      ]
    },
    {
      "cell_type": "markdown",
      "source": [
        "1. The Census Bureau collects race data according to U.S. Office of Management and Budget guidelines, and these data are based on self-identification. People may choose to report more than one race group. People of any race may be of any ethnic origin.\n",
        "2. Gathering race-related data helps facilitate the creation and implementation of policies and civil rights laws in politics and society. With high-quality and accurate data as references, more effective standards and reforms can be conducted to address complex societal challenges.\n",
        "3. The Census did well in providing multiple selections of races, allowing for increasing diversity, especially of those who have mixed backgrounds. It could potentially improve in having clear definitions about races and ethinity groups, making the survey process easier for people. Perhaps adding the North African category would complement the current survey as well. Additionally, the Census' good practices should be used in other forms of surveys to gather richer and more useful data.\n",
        "4. The Census has gathered data on sex and gender based on binary options, male and female. However, the Household Pulse Survey included questions on sexual orientation and gender identity, demonstrating more diversity and inclusion of differences in sex and gender. It should continue working on adopting new means of data collection to be inclusive of people's perceptions.\n",
        "5. The process of data cleaning raises potential concerns about acccurate clarification and representation of those protected characteristics. When there are missing values, the accuracy will be affected with potential statistical insignificance and biases. People might adopt imputation methods to mitigate the biases.\n",
        "6. Utilitizing algorithm to impute values for protected characteristics could raise trust issues towards the reliability of the gathered data and surveys. People might be more reserved when filling out their personal information and identitis while taking the surveys."
      ],
      "metadata": {
        "id": "qTh530_-Nel8"
      },
      "id": "qTh530_-Nel8"
    }
  ],
  "metadata": {
    "colab": {
      "provenance": []
    },
    "kernelspec": {
      "display_name": "Python 3 (ipykernel)",
      "language": "python",
      "name": "python3"
    },
    "language_info": {
      "codemirror_mode": {
        "name": "ipython",
        "version": 3
      },
      "file_extension": ".py",
      "mimetype": "text/x-python",
      "name": "python",
      "nbconvert_exporter": "python",
      "pygments_lexer": "ipython3",
      "version": "3.10.4"
    }
  },
  "nbformat": 4,
  "nbformat_minor": 5
}